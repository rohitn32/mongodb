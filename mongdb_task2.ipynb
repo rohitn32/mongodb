{
 "cells": [
  {
   "cell_type": "code",
   "execution_count": 3,
   "id": "ef556987",
   "metadata": {},
   "outputs": [],
   "source": [
    "#import pymongo\n",
    "import pymongo"
   ]
  },
  {
   "cell_type": "code",
   "execution_count": 4,
   "id": "3525d884",
   "metadata": {},
   "outputs": [],
   "source": [
    "#connecting to server\n",
    "client=pymongo.MongoClient(\"mongodb://127.0.0.1:27017/\")"
   ]
  },
  {
   "cell_type": "code",
   "execution_count": 5,
   "id": "e9fa1163",
   "metadata": {},
   "outputs": [],
   "source": [
    "#create databse\n",
    "mydb=client.task2"
   ]
  },
  {
   "cell_type": "code",
   "execution_count": null,
   "id": "130f493c",
   "metadata": {},
   "outputs": [],
   "source": [
    "#create collection"
   ]
  },
  {
   "cell_type": "code",
   "execution_count": 6,
   "id": "438728cf",
   "metadata": {},
   "outputs": [],
   "source": [
    "col=mydb.product"
   ]
  },
  {
   "cell_type": "code",
   "execution_count": null,
   "id": "0a6d8c43",
   "metadata": {},
   "outputs": [],
   "source": [
    "#add new products"
   ]
  },
  {
   "cell_type": "code",
   "execution_count": 8,
   "id": "d8dfd44f",
   "metadata": {},
   "outputs": [
    {
     "data": {
      "text/plain": [
       "InsertManyResult([ObjectId('66d1628df4f60e96ab88124e'), ObjectId('66d1628df4f60e96ab88124f'), ObjectId('66d1628df4f60e96ab881250')], acknowledged=True)"
      ]
     },
     "execution_count": 8,
     "metadata": {},
     "output_type": "execute_result"
    }
   ],
   "source": [
    "col.insert_many([{\"product_id\":\"o1ab\",\"name\":\"cement\",\"description\":\"strong\",\"price\":12.34},{\"product_id\":\"o2ab\",\"name\":\"wood\",\"description\":\"weak\",\"price\":121.34}\n",
    "               , {\"product_id\":\"o3ab\",\"name\":\"gold\",\"description\":\"very strong\",\"price\":100.56}])"
   ]
  },
  {
   "cell_type": "code",
   "execution_count": null,
   "id": "d66a2cbe",
   "metadata": {},
   "outputs": [],
   "source": [
    "#update product description\n"
   ]
  },
  {
   "cell_type": "code",
   "execution_count": 14,
   "id": "812dd29d",
   "metadata": {},
   "outputs": [
    {
     "data": {
      "text/plain": [
       "UpdateResult({'n': 1, 'nModified': 1, 'ok': 1.0, 'updatedExisting': True}, acknowledged=True)"
      ]
     },
     "execution_count": 14,
     "metadata": {},
     "output_type": "execute_result"
    }
   ],
   "source": [
    "\n",
    "col.update_one({\"description\":\"weak\"},{\"$set\":{\"description\":\"lightweak\"}})"
   ]
  },
  {
   "cell_type": "code",
   "execution_count": 15,
   "id": "f5d81de4",
   "metadata": {},
   "outputs": [
    {
     "data": {
      "text/plain": [
       "{'_id': ObjectId('66d1628df4f60e96ab88124e'),\n",
       " 'product_id': 'o1ab',\n",
       " 'name': 'cement',\n",
       " 'description': 'strong',\n",
       " 'price': 12.34}"
      ]
     },
     "execution_count": 15,
     "metadata": {},
     "output_type": "execute_result"
    }
   ],
   "source": [
    "#retrive product details  by id\n",
    "col.find_one({\"product_id\":\"o1ab\"})"
   ]
  },
  {
   "cell_type": "code",
   "execution_count": null,
   "id": "ac2fbdc9",
   "metadata": {},
   "outputs": [],
   "source": [
    "#remove by produt id"
   ]
  },
  {
   "cell_type": "code",
   "execution_count": 16,
   "id": "6ab3697d",
   "metadata": {},
   "outputs": [
    {
     "data": {
      "text/plain": [
       "DeleteResult({'n': 1, 'ok': 1.0}, acknowledged=True)"
      ]
     },
     "execution_count": 16,
     "metadata": {},
     "output_type": "execute_result"
    }
   ],
   "source": [
    "col.delete_one({\"product_id\":\"o2ab\"})"
   ]
  },
  {
   "cell_type": "code",
   "execution_count": null,
   "id": "aae38b05",
   "metadata": {},
   "outputs": [],
   "source": []
  }
 ],
 "metadata": {
  "kernelspec": {
   "display_name": "Python 3 (ipykernel)",
   "language": "python",
   "name": "python3"
  },
  "language_info": {
   "codemirror_mode": {
    "name": "ipython",
    "version": 3
   },
   "file_extension": ".py",
   "mimetype": "text/x-python",
   "name": "python",
   "nbconvert_exporter": "python",
   "pygments_lexer": "ipython3",
   "version": "3.11.5"
  }
 },
 "nbformat": 4,
 "nbformat_minor": 5
}
